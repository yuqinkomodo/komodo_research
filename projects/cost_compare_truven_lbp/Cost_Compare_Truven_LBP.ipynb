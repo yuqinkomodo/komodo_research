{
 "cells": [
  {
   "cell_type": "markdown",
   "id": "a811793f",
   "metadata": {},
   "source": [
    "### Reproduce Results in Kim 2019 paper"
   ]
  },
  {
   "cell_type": "code",
   "execution_count": 1,
   "id": "087567a8",
   "metadata": {},
   "outputs": [
    {
     "name": "stdout",
     "output_type": "stream",
     "text": [
      "Collecting sqlparse\n",
      "  Using cached sqlparse-0.4.2-py3-none-any.whl (42 kB)\n",
      "Installing collected packages: sqlparse\n",
      "Successfully installed sqlparse-0.4.2\n",
      "Note: you may need to restart the kernel to use updated packages.\n"
     ]
    }
   ],
   "source": [
    "%pip install sqlparse"
   ]
  },
  {
   "cell_type": "code",
   "execution_count": 2,
   "id": "10004971",
   "metadata": {},
   "outputs": [],
   "source": [
    "import snowflake.connector\n",
    "import getpass\n",
    "import sys\n",
    "import pandas as pd\n",
    "import sqlparse"
   ]
  },
  {
   "cell_type": "code",
   "execution_count": 3,
   "id": "20fd2e45",
   "metadata": {},
   "outputs": [
    {
     "name": "stdout",
     "output_type": "stream",
     "text": [
      "········\n"
     ]
    }
   ],
   "source": [
    "# Configure Snowflake Connector\n",
    "SNOWFLAKE_CREDS_DICT = {\n",
    "    \"SNOWFLAKE_USER\": \"YWEI\",\n",
    "    \"SNOWFLAKE_PASSWORD\": getpass.getpass()\n",
    "}\n",
    "SNOWFLAKE_CONFIG_DICT = {\n",
    "    'account':'komodohealth',\n",
    "    'database':'SANDBOX_KOMODO',\n",
    "    'warehouse': 'XLARGE_WH',\n",
    "    'role': 'ANALYST'\n",
    "}\n",
    "SF_DICT = {\n",
    "  'sfURL':SNOWFLAKE_CONFIG_DICT['account'] + '.snowflakecomputing.com',\n",
    "  'sfUser':SNOWFLAKE_CREDS_DICT['SNOWFLAKE_USER'],\n",
    "  'sfPassword':SNOWFLAKE_CREDS_DICT['SNOWFLAKE_PASSWORD'],\n",
    "  'sfDatabase':SNOWFLAKE_CONFIG_DICT['database'],\n",
    "  'sfWarehouse':SNOWFLAKE_CONFIG_DICT['warehouse'],\n",
    "  'sfRole': SNOWFLAKE_CONFIG_DICT['role'],\n",
    "  'tracing':'All',\n",
    "}   \n",
    "ctx = snowflake.connector.connect(\n",
    "  user=SF_DICT['sfUser'],\n",
    "  password=SF_DICT['sfPassword'],\n",
    "  account=SNOWFLAKE_CONFIG_DICT['account'],\n",
    "  )"
   ]
  },
  {
   "cell_type": "code",
   "execution_count": 4,
   "id": "6350d2f4",
   "metadata": {},
   "outputs": [
    {
     "data": {
      "text/plain": [
       "<snowflake.connector.cursor.SnowflakeCursor at 0x7f65fdfa9070>"
      ]
     },
     "execution_count": 4,
     "metadata": {},
     "output_type": "execute_result"
    }
   ],
   "source": [
    "# Switch database, warehouse and role\n",
    "ctx.cursor().execute('USE ROLE ' + SF_DICT['sfRole'])\n",
    "ctx.cursor().execute('USE WAREHOUSE ' + SF_DICT['sfWarehouse'])\n",
    "ctx.cursor().execute('USE ' + SF_DICT['sfDatabase'])\n",
    "ctx.cursor().execute('USE SCHEMA ' + 'AYWEI')"
   ]
  },
  {
   "cell_type": "code",
   "execution_count": null,
   "id": "0b01166e",
   "metadata": {},
   "outputs": [],
   "source": []
  },
  {
   "cell_type": "markdown",
   "id": "52622451",
   "metadata": {},
   "source": [
    "### Data Asset\n",
    "\n",
    "LBP, Redflag DGN, Opioid\n",
    "SANDBOX_AA.HEOR_FEASIBILITY_COMPARE_TRUVEN_LBP_SPINE_SURGERY.T0_ALL_CODES\n",
    "\n",
    "Surgical codes\n",
    "\n",
    "\n"
   ]
  },
  {
   "cell_type": "markdown",
   "id": "2250d868",
   "metadata": {},
   "source": []
  }
 ],
 "metadata": {
  "kernelspec": {
   "display_name": "Python 3",
   "language": "python",
   "name": "python3"
  },
  "language_info": {
   "codemirror_mode": {
    "name": "ipython",
    "version": 3
   },
   "file_extension": ".py",
   "mimetype": "text/x-python",
   "name": "python",
   "nbconvert_exporter": "python",
   "pygments_lexer": "ipython3",
   "version": "3.9.10"
  }
 },
 "nbformat": 4,
 "nbformat_minor": 5
}
