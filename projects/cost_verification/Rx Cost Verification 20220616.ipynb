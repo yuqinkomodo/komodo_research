{
 "cells": [
  {
   "cell_type": "code",
   "execution_count": 1,
   "id": "1ffee392",
   "metadata": {},
   "outputs": [
    {
     "name": "stdout",
     "output_type": "stream",
     "text": [
      "Collecting sqlparse\n",
      "  Using cached sqlparse-0.4.2-py3-none-any.whl (42 kB)\n",
      "Installing collected packages: sqlparse\n",
      "Successfully installed sqlparse-0.4.2\n",
      "Note: you may need to restart the kernel to use updated packages.\n"
     ]
    }
   ],
   "source": [
    "%pip install sqlparse"
   ]
  },
  {
   "cell_type": "code",
   "execution_count": 2,
   "id": "cbc71974",
   "metadata": {},
   "outputs": [],
   "source": [
    "import snowflake.connector\n",
    "import getpass\n",
    "import sys\n",
    "import pandas as pd\n",
    "import sqlparse"
   ]
  },
  {
   "cell_type": "code",
   "execution_count": 3,
   "id": "74a41f9c",
   "metadata": {},
   "outputs": [
    {
     "name": "stdout",
     "output_type": "stream",
     "text": [
      "········\n"
     ]
    }
   ],
   "source": [
    "# Configure Snowflake Connector\n",
    "SNOWFLAKE_CREDS_DICT = {\n",
    "    \"SNOWFLAKE_USER\": \"YWEI\",\n",
    "    \"SNOWFLAKE_PASSWORD\": getpass.getpass()\n",
    "}\n",
    "SNOWFLAKE_CONFIG_DICT = {\n",
    "    'account':'komodohealth',\n",
    "    'database':'SANDBOX_KOMODO',\n",
    "    'warehouse': 'XLARGE_WH',\n",
    "    'role': 'ANALYST'\n",
    "}\n",
    "SF_DICT = {\n",
    "  'sfURL':SNOWFLAKE_CONFIG_DICT['account'] + '.snowflakecomputing.com',\n",
    "  'sfUser':SNOWFLAKE_CREDS_DICT['SNOWFLAKE_USER'],\n",
    "  'sfPassword':SNOWFLAKE_CREDS_DICT['SNOWFLAKE_PASSWORD'],\n",
    "  'sfDatabase':SNOWFLAKE_CONFIG_DICT['database'],\n",
    "  'sfWarehouse':SNOWFLAKE_CONFIG_DICT['warehouse'],\n",
    "  'sfRole': SNOWFLAKE_CONFIG_DICT['role'],\n",
    "  'tracing':'All',\n",
    "}   \n",
    "ctx = snowflake.connector.connect(\n",
    "  user=SF_DICT['sfUser'],\n",
    "  password=SF_DICT['sfPassword'],\n",
    "  account=SNOWFLAKE_CONFIG_DICT['account'],\n",
    "  )"
   ]
  },
  {
   "cell_type": "code",
   "execution_count": 4,
   "id": "8f6117b8",
   "metadata": {},
   "outputs": [
    {
     "data": {
      "text/plain": [
       "<snowflake.connector.cursor.SnowflakeCursor at 0x7f8ea8669df0>"
      ]
     },
     "execution_count": 4,
     "metadata": {},
     "output_type": "execute_result"
    }
   ],
   "source": [
    "# Switch database, warehouse and role\n",
    "ctx.cursor().execute('USE ROLE ' + SF_DICT['sfRole'])\n",
    "ctx.cursor().execute('USE WAREHOUSE ' + SF_DICT['sfWarehouse'])\n",
    "ctx.cursor().execute('USE ' + SF_DICT['sfDatabase'])\n",
    "ctx.cursor().execute('USE SCHEMA ' + 'AYWEI')"
   ]
  },
  {
   "cell_type": "code",
   "execution_count": 5,
   "id": "87de142f",
   "metadata": {},
   "outputs": [],
   "source": [
    "def send_query(connection = None, sql = \"\", execute = False, verbose = True):\n",
    "    if not execute or verbose:\n",
    "        print(sqlparse.format(sql, reindent = True))\n",
    "        \n",
    "    if execute and connection is not None:\n",
    "        connection.cursor().execute(sql)\n",
    "    return\n",
    "\n",
    "def load_data(connection = None, table = \"\", limit = None):\n",
    "#     sql = \"\"\"\n",
    "#     select * from METDPP4_V3_COHORT_FUNNEL_183_BY_YEAR \n",
    "#     ORDER BY cohort, year, criteria\n",
    "#     \"\"\"\n",
    "    sql = f\"\"\"\n",
    "        select * from {table}\n",
    "    \"\"\"\n",
    "    if limit is not None:\n",
    "        sql += f\"\"\"\n",
    "            limit {limit}\n",
    "        \"\"\"\n",
    "    sql += \";\"\n",
    "    #pd.set_option('display.max_rows', 100)\n",
    "    df = pd.read_sql(sql, connection)\n",
    "    return df"
   ]
  },
  {
   "cell_type": "markdown",
   "id": "42013833",
   "metadata": {},
   "source": [
    "# RX Cost Verification"
   ]
  },
  {
   "cell_type": "code",
   "execution_count": 7,
   "id": "8a69432e",
   "metadata": {},
   "outputs": [],
   "source": [
    "def verify_rx_cost(\n",
    "    connection = None,\n",
    "    prefix = 'RX_Cost',\n",
    "    rx_version = '20220511', \n",
    "    dm_version = '20220513',\n",
    "    sample = 0.01,\n",
    "    execute = False,\n",
    "    verbose = True):\n",
    "    \n",
    "    rx_cost = f\"SANDBOX_KOMODO.PROJECT_CURRENCY.RX_ENCOUNTERS_{rx_version}_PAID_COST\"\n",
    "    dm_def = f\"MAP_VOCABULARY.RXNORM_{dm_version}.DRUG_MASTER\"\n",
    "        \n",
    "    sql_sample = f\"\"\"\n",
    "        create or replace table {prefix}_SAMPLE as\n",
    "        select *\n",
    "        from {rx_cost} sample ({sample})\n",
    "        ;\n",
    "    \"\"\"\n",
    "    \n",
    "    if sample < 1:\n",
    "        # send_query(connection, sql_sample, execute, verbose)\n",
    "        rx_cost = f\"{prefix}_SAMPLE\"\n",
    "        \n",
    "    # check ndc valid in other tables\n",
    "    sql_ndc = f\"\"\"\n",
    "        create or replace table {prefix}_CHECK_NDC as\n",
    "        with ndc as(\n",
    "        select encounter_key, claim_date, ndc,\n",
    "            ndc in (select distinct ndc from {dm_def}) as in_dm,\n",
    "            ndc in (select distinct ndc2 from ASP_NDC_HCPCS_CROSSWALK_2022JAN) as in_asp,\n",
    "            ndc in (select distinct NDC_OR_ALTERNATE_ID from ASP_NDC_HCPCS_CROSSWALK_2022JAN) as in_asp_noc,\n",
    "            ndc in (select distinct ndc from NADAC_20220322) as in_nadac,\n",
    "        from {rx_cost}\n",
    "        ) \n",
    "        select \n",
    "            count(*) as n, \n",
    "            count_if(ndc is null or length(ndc < 11)) as ndc_null, \n",
    "            count(distinct ndc) as n_ndc, \n",
    "            count(in_dm) as n_in_dm,\n",
    "            count(distinct (case when in_dm then ndc end)) as n_ndc_in_dm,\n",
    "            count(in_asp) as n_in_asp,\n",
    "            count(distinct (case when in_asp then ndc end)) as n_ndc_in_asp,\n",
    "            count(in_asp_noc) as n_in_asp_noc,\n",
    "            count(distinct (case when in_asp_noc then ndc end)) as n_ndc_in_asp_noc,\n",
    "            count(in_nadac) as n_in_nadac,\n",
    "            count(distinct (case when in_nadac then ndc end)) as n_ndc_in_nadac\n",
    "        from ndc\n",
    "        ;\n",
    "    \"\"\"\n",
    "    \n",
    "#     sql_cost_summ = f\"\"\"  \n",
    "#         create or replace table {prefix}_COST_SUMM as\n",
    "#         select f.upk_key2, f.index_date, f.cohort, sum(least(100000, ALLOWED_AMOUNT_CLEAN)) as mx_cost, sum(least(100000, PLAN_PAY_FINAL)) as rx_cost\n",
    "#         from {prefix}_FIRST_POTENTIAL f\n",
    "#         left join {prefix}_COST_MX mx\n",
    "#         on f.upk_key2 = mx.upk_key2\n",
    "#         left join {prefix}_COST_RX rx\n",
    "#         on f.upk_key2 = rx.upk_key2\n",
    "#         group by f.upk_key2, f.index_date, f.cohort\n",
    "#         ;\n",
    "#     \"\"\"\n",
    "    send_query(connection, sql_ndc, execute, verbose)\n",
    "    return"
   ]
  },
  {
   "cell_type": "code",
   "execution_count": null,
   "id": "f5eebbb9",
   "metadata": {},
   "outputs": [],
   "source": [
    "verify_rx_cost(connection = ctx, execute = True, verbose = False)"
   ]
  },
  {
   "cell_type": "code",
   "execution_count": null,
   "id": "2bf00be9",
   "metadata": {},
   "outputs": [],
   "source": []
  }
 ],
 "metadata": {
  "kernelspec": {
   "display_name": "Python 3",
   "language": "python",
   "name": "python3"
  },
  "language_info": {
   "codemirror_mode": {
    "name": "ipython",
    "version": 3
   },
   "file_extension": ".py",
   "mimetype": "text/x-python",
   "name": "python",
   "nbconvert_exporter": "python",
   "pygments_lexer": "ipython3",
   "version": "3.9.10"
  }
 },
 "nbformat": 4,
 "nbformat_minor": 5
}
